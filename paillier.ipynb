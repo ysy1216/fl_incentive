{
 "cells": [
  {
   "cell_type": "code",
   "execution_count": 1,
   "metadata": {},
   "outputs": [
    {
     "name": "stdout",
     "output_type": "stream",
     "text": [
      "Original tensor:\n",
      " tensor([1., 2., 3.])\n",
      "Encrypted tensor:\n",
      " [<phe.paillier.EncryptedNumber object at 0x7f107c7648e0>, <phe.paillier.EncryptedNumber object at 0x7f107c764bb0>, <phe.paillier.EncryptedNumber object at 0x7f107c764b50>]\n",
      "Decrypted tensor:\n",
      " tensor([1., 2., 3.])\n"
     ]
    }
   ],
   "source": [
    "import torch\n",
    "from phe import paillier\n",
    "\n",
    "# generate keypair\n",
    "public_key, private_key = paillier.generate_paillier_keypair()\n",
    "\n",
    "# set a plaintext tensor\n",
    "x = torch.tensor([1.0, 2.0, 3.0])\n",
    "\n",
    "# encrypt the tensor using Paillier encryption\n",
    "enc_x = [public_key.encrypt(float(xi)) for xi in x]\n",
    "\n",
    "# decrypt the encrypted tensor\n",
    "dec_x = torch.tensor([private_key.decrypt(ei) for ei in enc_x])\n",
    "\n",
    "print(\"Original tensor:\\n\", x)\n",
    "print(\"Encrypted tensor:\\n\", enc_x)\n",
    "print(\"Decrypted tensor:\\n\", dec_x)\n"
   ]
  }
 ],
 "metadata": {
  "kernelspec": {
   "display_name": "Python 3.8.16 ('fl_incentive')",
   "language": "python",
   "name": "python3"
  },
  "language_info": {
   "codemirror_mode": {
    "name": "ipython",
    "version": 3
   },
   "file_extension": ".py",
   "mimetype": "text/x-python",
   "name": "python",
   "nbconvert_exporter": "python",
   "pygments_lexer": "ipython3",
   "version": "3.8.16"
  },
  "orig_nbformat": 4,
  "vscode": {
   "interpreter": {
    "hash": "a6afacf2f60fb0e85c06097d06e98cad29769449a84e7b54e6285731cd4887ef"
   }
  }
 },
 "nbformat": 4,
 "nbformat_minor": 2
}
