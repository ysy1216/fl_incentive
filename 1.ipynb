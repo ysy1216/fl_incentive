{
 "cells": [
  {
   "cell_type": "code",
   "execution_count": 6,
   "metadata": {},
   "outputs": [],
   "source": [
    "import pickle\n",
    "import os\n",
    "my_list=[1,2]\n",
    "e=1\n",
    "# 假设列表为 my_list\n",
    "file_path = os.path.join('./result/', f'my_list_{e}.pkl')  # 文件路径为 result/my_list.pkl\n",
    "\n",
    "with open(file_path, 'wb') as f:\n",
    "    pickle.dump(my_list, f)\n",
    "\n"
   ]
  },
  {
   "cell_type": "code",
   "execution_count": 3,
   "metadata": {},
   "outputs": [
    {
     "data": {
      "text/plain": [
       "[1, 2]"
      ]
     },
     "execution_count": 3,
     "metadata": {},
     "output_type": "execute_result"
    }
   ],
   "source": [
    "import pickle\n",
    "\n",
    "with open('my_list.pkl', 'rb') as f:\n",
    "    my_list = pickle.load(f)\n",
    "my_list"
   ]
  },
  {
   "cell_type": "code",
   "execution_count": null,
   "metadata": {},
   "outputs": [],
   "source": [
    "# 0.5的隐私预算下，4次cdp/ldp/真实 的梯度统计。 shapley值统计\n",
    "# 然后进行均值 然后进行mse差值比较"
   ]
  }
 ],
 "metadata": {
  "kernelspec": {
   "display_name": "Python 3.8.16 ('fl_incentive')",
   "language": "python",
   "name": "python3"
  },
  "language_info": {
   "codemirror_mode": {
    "name": "ipython",
    "version": 3
   },
   "file_extension": ".py",
   "mimetype": "text/x-python",
   "name": "python",
   "nbconvert_exporter": "python",
   "pygments_lexer": "ipython3",
   "version": "3.8.16"
  },
  "orig_nbformat": 4,
  "vscode": {
   "interpreter": {
    "hash": "a6afacf2f60fb0e85c06097d06e98cad29769449a84e7b54e6285731cd4887ef"
   }
  }
 },
 "nbformat": 4,
 "nbformat_minor": 2
}
